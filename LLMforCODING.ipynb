{
 "cells": [
  {
   "cell_type": "markdown",
   "id": "099745a0",
   "metadata": {},
   "source": [
    "## Frontier Model for generating code.\n"
   ]
  },
  {
   "cell_type": "code",
   "execution_count": 32,
   "id": "ec82aa05",
   "metadata": {},
   "outputs": [
    {
     "name": "stdout",
     "output_type": "stream",
     "text": [
      "OpenAI api key is correct and ready for use!\n",
      "Anthropic api key is correct and ready for use!\n"
     ]
    }
   ],
   "source": [
    "# imports\n",
    "import os\n",
    "import io\n",
    "import sys\n",
    "from dotenv import load_dotenv\n",
    "from openai import OpenAI\n",
    "import google.generativeai\n",
    "from anthropic import Anthropic\n",
    "from IPython.display import Markdown, display, update_display\n",
    "import gradio as gr\n",
    "import subprocess\n",
    "\n",
    "\n",
    "load_dotenv()\n",
    "openai_api_key = os.getenv(\"OPENAI_API_KEY\")\n",
    "anthropic_api_key = os.getenv(\"ANTHROPIC_API_KEY\")\n",
    "\n",
    "os.environ[\"PATH\"] += r\";C:\\msys64\\mingw64\\bin\"\n",
    "\n",
    "if openai_api_key.startswith(\"sk-proj\") and len(openai_api_key) > 10:\n",
    "    print(\"OpenAI api key is correct and ready for use!\")\n",
    "else:\n",
    "    print(\"OpenAI api key is incorrect! Please provide a functional one for the best possible quality.\")\n",
    "\n",
    "if anthropic_api_key.startswith(\"sk-ant\") and len(anthropic_api_key) > 10:\n",
    "    print(\"Anthropic api key is correct and ready for use!\")\n",
    "else:\n",
    "    print(\"Anthropic api key is incorrect! Please provide a functional one for the best possible quality.\")\n",
    "\n",
    "\n",
    "openai = OpenAI()\n",
    "claude = Anthropic()\n",
    "\n",
    "\n",
    "OPENAI_MODEL = \"gpt-4o-mini\"\n",
    "CLAUDE_MODEL = \"claude-3-haiku-20240307\"\n"
   ]
  },
  {
   "cell_type": "code",
   "execution_count": 13,
   "id": "dd286f72",
   "metadata": {},
   "outputs": [],
   "source": [
    "system_message = \"You are an assistant that reimplements Python code in high performance C++ for a HP Elitebook I5 running on Windows 10. \"\n",
    "system_message += \"Respond only with C++ code; use comments sparingly and do not provide any explanation other than occasional comments. \"\n",
    "system_message += \"The C++ response needs to produce an identical output in the fastest possible time.\""
   ]
  },
  {
   "cell_type": "code",
   "execution_count": 33,
   "id": "9bf2f831",
   "metadata": {},
   "outputs": [],
   "source": [
    "def user_prompt_for(python):\n",
    "    user_prompt = \"Rewrite this Python code in C++ with the fastest possible implementation that produces identical output in the least time. \"\n",
    "    user_prompt += \"Respond only with C++ code; do not explain your work other than a few comments. \"\n",
    "    user_prompt += \"Pay attention to number types to ensure no int overflows. Remember to #include all necessary C++ packages such as iomanip.\\n\\n\"\n",
    "    user_prompt += python\n",
    "    return user_prompt\n",
    "\n",
    "def messages_for(python):\n",
    "    return [\n",
    "        {\"role\" : \"system\", \"content\" : system_message},\n",
    "        {\"role\" : \"user\", \"content\" : user_prompt_for(python)}\n",
    "    ]\n",
    "\n",
    "\n",
    "def write_output(cpp):\n",
    "    code = cpp.replace(\"```cpp\",\"\").replace(\"```\",\"\")\n",
    "    with open(\"optimized.cpp\",'w') as file:\n",
    "        file.write(code)\n",
    "\n",
    "\n",
    "def optimize_gpt(python):\n",
    "    stream = openai.chat.completions.create(\n",
    "        model = OPENAI_MODEL,\n",
    "        messages = messages_for(python),\n",
    "        stream = True\n",
    "    )\n",
    "\n",
    "    response = \"\"\n",
    "    for chunk in stream:\n",
    "        part = chunk.choices[0].delta.content or \"\"\n",
    "        response += part\n",
    "        print(part, end = '', flush = True)\n",
    "\n",
    "    write_output(response)\n",
    "\n",
    "\n",
    "def optimize_claude(python):\n",
    "    response = claude.messages.stream(\n",
    "        model = CLAUDE_MODEL,\n",
    "        max_tokens = 2000,\n",
    "        system = system_message,\n",
    "        messages = [{\"role\" : \"user\", \"content\" : user_prompt_for(python)}]\n",
    "    )\n",
    "\n",
    "    reply = \"\"\n",
    "    with response as stream:\n",
    "        for part in stream.text_stream:\n",
    "            reply += part\n",
    "            print(part, end = '', flush = True)\n",
    "\n",
    "    write_output(reply)\n"
   ]
  },
  {
   "cell_type": "code",
   "execution_count": 23,
   "id": "d5b452e7",
   "metadata": {},
   "outputs": [],
   "source": [
    "pi = \"\"\"\n",
    "import time\n",
    "\n",
    "def calculate(iterations, param1, param2):\n",
    "    result = 1.0\n",
    "    for i in range(1, iterations+1):\n",
    "        j = i * param1 - param2\n",
    "        result -= (1/j)\n",
    "        j = i * param1 + param2\n",
    "        result += (1/j)\n",
    "    return result\n",
    "\n",
    "start_time = time.time()\n",
    "result = calculate(100_000_000, 4, 1) * 4\n",
    "end_time = time.time()\n",
    "\n",
    "print(f\"Result: {result:.12f}\")\n",
    "print(f\"Execution Time: {(end_time - start_time):.6f} seconds\")\n",
    "\"\"\""
   ]
  },
  {
   "cell_type": "code",
   "execution_count": 24,
   "id": "ca970b38",
   "metadata": {},
   "outputs": [
    {
     "name": "stdout",
     "output_type": "stream",
     "text": [
      "Result: 3.141592658589\n",
      "Execution Time: 20.806433 seconds\n"
     ]
    }
   ],
   "source": [
    "exec(pi)"
   ]
  },
  {
   "cell_type": "code",
   "execution_count": 25,
   "id": "95897b1d",
   "metadata": {},
   "outputs": [
    {
     "name": "stdout",
     "output_type": "stream",
     "text": [
      "```cpp\n",
      "#include <iostream>\n",
      "#include <iomanip>\n",
      "#include <chrono>\n",
      "\n",
      "double calculate(long long iterations, double param1, double param2) {\n",
      "    double result = 1.0;\n",
      "    for (long long i = 1; i <= iterations; ++i) {\n",
      "        double j1 = i * param1 - param2;\n",
      "        result -= (1.0 / j1);\n",
      "        double j2 = i * param1 + param2;\n",
      "        result += (1.0 / j2);\n",
      "    }\n",
      "    return result;\n",
      "}\n",
      "\n",
      "int main() {\n",
      "    auto start_time = std::chrono::high_resolution_clock::now();\n",
      "    double result = calculate(100000000, 4.0, 1.0) * 4.0;\n",
      "    auto end_time = std::chrono::high_resolution_clock::now();\n",
      "\n",
      "    std::cout << std::fixed << std::setprecision(12) << \"Result: \" << result << std::endl;\n",
      "    std::chrono::duration<double> elapsed = end_time - start_time;\n",
      "    std::cout << \"Execution Time: \" << std::fixed << std::setprecision(6) << elapsed.count() << \" seconds\" << std::endl;\n",
      "\n",
      "    return 0;\n",
      "}\n",
      "```"
     ]
    }
   ],
   "source": [
    "optimize_gpt(pi)"
   ]
  },
  {
   "cell_type": "code",
   "execution_count": 26,
   "id": "3e7c9e3c",
   "metadata": {},
   "outputs": [
    {
     "name": "stdout",
     "output_type": "stream",
     "text": [
      "Result: 3.141592658589\n",
      "Execution Time: 0.195461 seconds\n"
     ]
    }
   ],
   "source": [
    "!clang++ -O3 -std=c++17 -o optimized.exe optimized.cpp\n",
    "!optimized.exe"
   ]
  },
  {
   "cell_type": "code",
   "execution_count": 34,
   "id": "f156477b",
   "metadata": {},
   "outputs": [
    {
     "name": "stdout",
     "output_type": "stream",
     "text": [
      "```cpp\n",
      "#include <iostream>\n",
      "#include <iomanip>\n",
      "#include <chrono>\n",
      "\n",
      "double calculate(long long iterations, double param1, double param2) {\n",
      "    double result = 1.0;\n",
      "    for (long long i = 1; i <= iterations; i++) {\n",
      "        double j = i * param1 - param2;\n",
      "        result -= (1.0 / j);\n",
      "        j = i * param1 + param2;\n",
      "        result += (1.0 / j);\n",
      "    }\n",
      "    return result;\n",
      "}\n",
      "\n",
      "int main() {\n",
      "    long long iterations = 100000000LL;\n",
      "    double param1 = 4.0, param2 = 1.0;\n",
      "\n",
      "    auto start_time = std::chrono::high_resolution_clock::now();\n",
      "    double result = calculate(iterations, param1, param2) * 4.0;\n",
      "    auto end_time = std::chrono::high_resolution_clock::now();\n",
      "\n",
      "    std::cout << std::fixed << std::setprecision(12) << \"Result: \" << result << std::endl;\n",
      "    std::cout << std::fixed << std::setprecision(6) << \"Execution Time: \" << std::chrono::duration<double>(end_time - start_time).count() << \" seconds\" << std::endl;\n",
      "\n",
      "    return 0;\n",
      "}\n",
      "```"
     ]
    }
   ],
   "source": [
    "optimize_claude(pi)"
   ]
  },
  {
   "cell_type": "code",
   "execution_count": 35,
   "id": "ecefbd62",
   "metadata": {},
   "outputs": [
    {
     "name": "stdout",
     "output_type": "stream",
     "text": [
      "Result: 3.141592658589\n",
      "Execution Time: 0.197099 seconds\n"
     ]
    }
   ],
   "source": [
    "!clang++ -O3 -std=c++17 -o optimized.exe optimized.cpp\n",
    "!optimized.exe"
   ]
  }
 ],
 "metadata": {
  "kernelspec": {
   "display_name": "llms",
   "language": "python",
   "name": "python3"
  },
  "language_info": {
   "codemirror_mode": {
    "name": "ipython",
    "version": 3
   },
   "file_extension": ".py",
   "mimetype": "text/x-python",
   "name": "python",
   "nbconvert_exporter": "python",
   "pygments_lexer": "ipython3",
   "version": "3.11.11"
  }
 },
 "nbformat": 4,
 "nbformat_minor": 5
}
